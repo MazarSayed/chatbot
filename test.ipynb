{
 "cells": [
  {
   "cell_type": "code",
   "execution_count": 13,
   "metadata": {},
   "outputs": [],
   "source": [
    "import os\n",
    "from dotenv import load_dotenv\n",
    "from src.nodes.greetings import greeting\n",
    "from src.utils.config import load_config\n",
    "import streamlit as st\n",
    "from langchain_groq import ChatGroq\n",
    "from src.database.chroma_manager import ChromaManager\n",
    "from src.utils.config import populate_chroma_db,update_question_answer\n",
    "\n",
    "config,prompt = load_config()\n"
   ]
  },
  {
   "cell_type": "code",
   "execution_count": 14,
   "metadata": {},
   "outputs": [
    {
     "name": "stdout",
     "output_type": "stream",
     "text": [
      "d:\\Loop_v2\\chatbot\\chroma_db\n"
     ]
    }
   ],
   "source": [
    "print(os.path.abspath(config['chroma_path']))\n"
   ]
  },
  {
   "cell_type": "code",
   "execution_count": 15,
   "metadata": {},
   "outputs": [],
   "source": [
    "chroma_manager = ChromaManager(os.path.abspath(config['chroma_path']))\n"
   ]
  },
  {
   "cell_type": "code",
   "execution_count": 16,
   "metadata": {},
   "outputs": [],
   "source": [
    "populate_chroma_db(chroma_manager)"
   ]
  },
  {
   "cell_type": "code",
   "execution_count": 17,
   "metadata": {},
   "outputs": [
    {
     "name": "stdout",
     "output_type": "stream",
     "text": [
      "[[\"The cost of your treatment is based on how complex your case is and how many aligners you need. We have several options to make Invisalign treatment more affordable for you, from using insurance and tax-free dollars to a monthly payment plan.  \\n\\nTo give you some idea about fees, we have detailed cost breakdowns from some of the cases we've treated. Would you like to see an example?     \\n\"]]\n"
     ]
    }
   ],
   "source": [
    "query = \"Price of Invisalign\"\n",
    "n_results = 1\n",
    "\n",
    "# Retrieve the answer\n",
    "retrieved_qa = chroma_manager.get_question_answer(query, n_results)\n",
    "asnwer = retrieved_qa\n",
    "print(asnwer)"
   ]
  },
  {
   "cell_type": "code",
   "execution_count": 7,
   "metadata": {},
   "outputs": [
    {
     "data": {
      "text/plain": [
       "[[\"With over 5,000 smiles transformed, our Invisalign® Certified Providers are here to help you achieve the smile you've always wanted. Whether it's simple straightening or addressing complex issues like crowded teeth, crossbite, underbite, open bite, or overbite, Invisalign offers a solution.  \\n\\nGood to Know: if you or your family have an HSA or FSA account, we'd highly recommend you check with your administrator regarding coverage. Invisalign is usually considered an eligible expense under most HSA or FSA plans. This allows you to use tax-free dollars to cover partial or full out-of-pocket amount. We will be happy to provide any documentation needed for reimbursement. \\n\",\n",
       "  \"Here's what to expect with Invisalign treatment: \\n\\n  - Step 1 - Free Consultation: We'll evaluate if Invisalign is right for you to achieve that perfect smile. \\n\\n  - Step 2 - Treatment Planning: We use advanced digital technology to create a custom plan, showing your smile's transformation step by step. \\n\\n  - Step 3 - Begin Your Journey: With our support at every stage, enjoy a smooth journey to a more confident smile \\n\"]]"
      ]
     },
     "execution_count": 7,
     "metadata": {},
     "output_type": "execute_result"
    }
   ],
   "source": [
    "retrieved_qa"
   ]
  },
  {
   "cell_type": "code",
   "execution_count": 1,
   "metadata": {},
   "outputs": [
    {
     "ename": "AttributeError",
     "evalue": "'ChromaManager' object has no attribute 'list_collections'",
     "output_type": "error",
     "traceback": [
      "\u001b[1;31m---------------------------------------------------------------------------\u001b[0m",
      "\u001b[1;31mAttributeError\u001b[0m                            Traceback (most recent call last)",
      "Cell \u001b[1;32mIn[1], line 9\u001b[0m\n\u001b[0;32m      6\u001b[0m config,prompt \u001b[38;5;241m=\u001b[39m load_config()\n\u001b[0;32m      7\u001b[0m chroma_manager \u001b[38;5;241m=\u001b[39m ChromaManager(os\u001b[38;5;241m.\u001b[39mpath\u001b[38;5;241m.\u001b[39mabspath(config[\u001b[38;5;124m'\u001b[39m\u001b[38;5;124mchroma_path\u001b[39m\u001b[38;5;124m'\u001b[39m]))\n\u001b[1;32m----> 9\u001b[0m collections \u001b[38;5;241m=\u001b[39m \u001b[43mchroma_manager\u001b[49m\u001b[38;5;241;43m.\u001b[39;49m\u001b[43mlist_collections\u001b[49m()\n",
      "\u001b[1;31mAttributeError\u001b[0m: 'ChromaManager' object has no attribute 'list_collections'"
     ]
    }
   ],
   "source": [
    "import chromadb\n",
    "from src.utils.config import load_config\n",
    "from src.database.chroma_manager import ChromaManager\n",
    "import os\n",
    "\n",
    "config,prompt = load_config()\n",
    "chroma_manager = ChromaManager(os.path.abspath(config['chroma_path']))\n",
    "\n",
    "collections = chroma_manager.list_collections()"
   ]
  },
  {
   "cell_type": "code",
   "execution_count": null,
   "metadata": {},
   "outputs": [],
   "source": []
  }
 ],
 "metadata": {
  "kernelspec": {
   "display_name": "loop",
   "language": "python",
   "name": "python3"
  },
  "language_info": {
   "codemirror_mode": {
    "name": "ipython",
    "version": 3
   },
   "file_extension": ".py",
   "mimetype": "text/x-python",
   "name": "python",
   "nbconvert_exporter": "python",
   "pygments_lexer": "ipython3",
   "version": "3.10.16"
  }
 },
 "nbformat": 4,
 "nbformat_minor": 2
}
