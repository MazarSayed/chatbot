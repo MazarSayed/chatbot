{
 "cells": [
  {
   "cell_type": "code",
   "execution_count": 1,
   "metadata": {},
   "outputs": [],
   "source": [
    "import os\n",
    "from dotenv import load_dotenv\n",
    "from src.nodes.greetings import greeting\n",
    "from src.utils.config import load_config\n",
    "import streamlit as st\n",
    "from langchain_groq import ChatGroq\n",
    "from src.database.chroma_manager import ChromaManager\n",
    "from src.utils.config import populate_chroma_db,update_question_answer\n",
    "\n",
    "config,prompt = load_config()\n"
   ]
  },
  {
   "cell_type": "code",
   "execution_count": 2,
   "metadata": {},
   "outputs": [
    {
     "name": "stdout",
     "output_type": "stream",
     "text": [
      "d:\\Loop_v2\\chatbot\\chroma_db\n"
     ]
    }
   ],
   "source": [
    "print(os.path.abspath(config['chroma_path']))\n"
   ]
  },
  {
   "cell_type": "code",
   "execution_count": 3,
   "metadata": {},
   "outputs": [],
   "source": [
    "chroma_manager = ChromaManager(os.path.abspath(config['chroma_path']))\n"
   ]
  },
  {
   "cell_type": "code",
   "execution_count": 5,
   "metadata": {},
   "outputs": [],
   "source": [
    "populate_chroma_db(chroma_manager)"
   ]
  },
  {
   "cell_type": "code",
   "execution_count": 10,
   "metadata": {},
   "outputs": [
    {
     "name": "stdout",
     "output_type": "stream",
     "text": [
      "[\"The cost of your treatment is based on how complex your case is and how many aligners you need. We have several options to make Invisalign treatment more affordable for you, from using insurance and tax-free dollars to a monthly payment plan.  \\n\\nTo give you some idea about fees, we have detailed cost breakdowns from some of the cases we've treated. Would you like to see an example?     \\n\"]\n"
     ]
    }
   ],
   "source": [
    "query = \"What's the details of the cost for invisalign\"\n",
    "n_results = 1\n",
    "\n",
    "# Retrieve the answer\n",
    "retrieved_qa = chroma_manager.get_question_answer(query, n_results)\n",
    "\n",
    "print(retrieved_qa)"
   ]
  },
  {
   "cell_type": "code",
   "execution_count": 13,
   "metadata": {},
   "outputs": [
    {
     "data": {
      "text/plain": [
       "\"The cost of your treatment is based on how complex your case is and how many aligners you need. We have several options to make Invisalign treatment more affordable for you, from using insurance and tax-free dollars to a monthly payment plan.  \\n\\nTo give you some idea about fees, we have detailed cost breakdowns from some of the cases we've treated. Would you like to see an example?     \\n\""
      ]
     },
     "execution_count": 13,
     "metadata": {},
     "output_type": "execute_result"
    }
   ],
   "source": [
    "retrieved_qa[0]"
   ]
  },
  {
   "cell_type": "code",
   "execution_count": null,
   "metadata": {},
   "outputs": [],
   "source": []
  }
 ],
 "metadata": {
  "kernelspec": {
   "display_name": "loop",
   "language": "python",
   "name": "python3"
  },
  "language_info": {
   "codemirror_mode": {
    "name": "ipython",
    "version": 3
   },
   "file_extension": ".py",
   "mimetype": "text/x-python",
   "name": "python",
   "nbconvert_exporter": "python",
   "pygments_lexer": "ipython3",
   "version": "3.10.16"
  }
 },
 "nbformat": 4,
 "nbformat_minor": 2
}
