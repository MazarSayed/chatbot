{
 "cells": [
  {
   "cell_type": "code",
   "execution_count": null,
   "metadata": {},
   "outputs": [],
   "source": []
  },
  {
   "cell_type": "code",
   "execution_count": 6,
   "metadata": {},
   "outputs": [],
   "source": [
    "import os\n",
    "from dotenv import load_dotenv\n",
    "from src.utils.config import load_config\n",
    "import streamlit as st\n",
    "from langchain_groq import ChatGroq\n",
    "from src.database.chroma_manager import ChromaManager\n",
    "from src.utils.config import populate_chroma_db\n",
    "import chromadb\n",
    "from sentence_transformers import SentenceTransformer\n",
    "config,prompt = load_config()\n"
   ]
  },
  {
   "cell_type": "code",
   "execution_count": 7,
   "metadata": {},
   "outputs": [
    {
     "name": "stdout",
     "output_type": "stream",
     "text": [
      "d:\\Loop_v2\\chatbot\\chroma_db\n"
     ]
    }
   ],
   "source": [
    "print(os.path.abspath(config['chroma_path']))\n"
   ]
  },
  {
   "cell_type": "code",
   "execution_count": 8,
   "metadata": {},
   "outputs": [],
   "source": [
    "chroma_manager = ChromaManager(os.path.abspath(config['chroma_path']))\n"
   ]
  },
  {
   "cell_type": "code",
   "execution_count": 9,
   "metadata": {},
   "outputs": [
    {
     "name": "stderr",
     "output_type": "stream",
     "text": [
      "c:\\Users\\moham\\anaconda3\\envs\\loop\\lib\\site-packages\\huggingface_hub\\file_download.py:140: UserWarning: `huggingface_hub` cache-system uses symlinks by default to efficiently store duplicated files but your machine does not support them in C:\\Users\\moham\\.cache\\huggingface\\hub\\models--BAAI--bge-large-en. Caching files will still work but in a degraded version that might require more space on your disk. This warning can be disabled by setting the `HF_HUB_DISABLE_SYMLINKS_WARNING` environment variable. For more details, see https://huggingface.co/docs/huggingface_hub/how-to-cache#limitations.\n",
      "To support symlinks on Windows, you either need to activate Developer Mode or to run Python as an administrator. In order to activate developer mode, see this article: https://docs.microsoft.com/en-us/windows/apps/get-started/enable-your-device-for-development\n",
      "  warnings.warn(message)\n",
      "Error while downloading from https://cdn-lfs.hf.co/repos/60/5e/605eb2707e17d287d9db515a55d5abd41f99516f676822cdf999ae87d847c1a2/37136ad03a0da3ea220bc31850c5b49f39d56fa0d99ebd48887d0c9bb60ad5d1?response-content-disposition=inline%3B+filename*%3DUTF-8%27%27model.safetensors%3B+filename%3D%22model.safetensors%22%3B&Expires=1740902974&Policy=eyJTdGF0ZW1lbnQiOlt7IkNvbmRpdGlvbiI6eyJEYXRlTGVzc1RoYW4iOnsiQVdTOkVwb2NoVGltZSI6MTc0MDkwMjk3NH19LCJSZXNvdXJjZSI6Imh0dHBzOi8vY2RuLWxmcy5oZi5jby9yZXBvcy82MC81ZS82MDVlYjI3MDdlMTdkMjg3ZDlkYjUxNWE1NWQ1YWJkNDFmOTk1MTZmNjc2ODIyY2RmOTk5YWU4N2Q4NDdjMWEyLzM3MTM2YWQwM2EwZGEzZWEyMjBiYzMxODUwYzViNDlmMzlkNTZmYTBkOTllYmQ0ODg4N2QwYzliYjYwYWQ1ZDE%7EcmVzcG9uc2UtY29udGVudC1kaXNwb3NpdGlvbj0qIn1dfQ__&Signature=dtooIcxU8j8tlMnAaPs3lwQypng2Ks-S9m9D1uiPb%7EEwEOPWIB1kzLIkiHrmU3fw7xB51OwggUrcetbj%7Eahqygiu9v%7EmVM2PuXT7zUMnIghz4KxbzJKOAwFTSPk5MDcuvtP6YOR6Xc7TQQVsn%7EBxGKBNhJ71coWbCRiTF9-0GgwBZCrGBef1awnFm4N1Ny0zQkSAq3i6oydAkC1PsRn5sOLQCiIlPoVhbYngtoXjd7-6UkVZ-AYO7bSs3Jk7%7ER8iCBlmMaskT4VnNyY%7Eb7jg9Z3RFqkK2SuBEAZthYWleOY85AxQ4pmMnU8IrR3-2nVdDTW5iS19rasMWE9GrlX9MQ__&Key-Pair-Id=K3RPWS32NSSJCE: HTTPSConnectionPool(host='cdn-lfs.hf.co', port=443): Read timed out.\n",
      "Trying to resume download...\n",
      "WARNING:huggingface_hub.file_download:Error while downloading from https://cdn-lfs.hf.co/repos/60/5e/605eb2707e17d287d9db515a55d5abd41f99516f676822cdf999ae87d847c1a2/37136ad03a0da3ea220bc31850c5b49f39d56fa0d99ebd48887d0c9bb60ad5d1?response-content-disposition=inline%3B+filename*%3DUTF-8%27%27model.safetensors%3B+filename%3D%22model.safetensors%22%3B&Expires=1740902974&Policy=eyJTdGF0ZW1lbnQiOlt7IkNvbmRpdGlvbiI6eyJEYXRlTGVzc1RoYW4iOnsiQVdTOkVwb2NoVGltZSI6MTc0MDkwMjk3NH19LCJSZXNvdXJjZSI6Imh0dHBzOi8vY2RuLWxmcy5oZi5jby9yZXBvcy82MC81ZS82MDVlYjI3MDdlMTdkMjg3ZDlkYjUxNWE1NWQ1YWJkNDFmOTk1MTZmNjc2ODIyY2RmOTk5YWU4N2Q4NDdjMWEyLzM3MTM2YWQwM2EwZGEzZWEyMjBiYzMxODUwYzViNDlmMzlkNTZmYTBkOTllYmQ0ODg4N2QwYzliYjYwYWQ1ZDE%7EcmVzcG9uc2UtY29udGVudC1kaXNwb3NpdGlvbj0qIn1dfQ__&Signature=dtooIcxU8j8tlMnAaPs3lwQypng2Ks-S9m9D1uiPb%7EEwEOPWIB1kzLIkiHrmU3fw7xB51OwggUrcetbj%7Eahqygiu9v%7EmVM2PuXT7zUMnIghz4KxbzJKOAwFTSPk5MDcuvtP6YOR6Xc7TQQVsn%7EBxGKBNhJ71coWbCRiTF9-0GgwBZCrGBef1awnFm4N1Ny0zQkSAq3i6oydAkC1PsRn5sOLQCiIlPoVhbYngtoXjd7-6UkVZ-AYO7bSs3Jk7%7ER8iCBlmMaskT4VnNyY%7Eb7jg9Z3RFqkK2SuBEAZthYWleOY85AxQ4pmMnU8IrR3-2nVdDTW5iS19rasMWE9GrlX9MQ__&Key-Pair-Id=K3RPWS32NSSJCE: HTTPSConnectionPool(host='cdn-lfs.hf.co', port=443): Read timed out.\n",
      "Trying to resume download...\n",
      "Error while downloading from https://cdn-lfs.hf.co/repos/60/5e/605eb2707e17d287d9db515a55d5abd41f99516f676822cdf999ae87d847c1a2/37136ad03a0da3ea220bc31850c5b49f39d56fa0d99ebd48887d0c9bb60ad5d1?response-content-disposition=inline%3B+filename*%3DUTF-8%27%27model.safetensors%3B+filename%3D%22model.safetensors%22%3B&Expires=1740902974&Policy=eyJTdGF0ZW1lbnQiOlt7IkNvbmRpdGlvbiI6eyJEYXRlTGVzc1RoYW4iOnsiQVdTOkVwb2NoVGltZSI6MTc0MDkwMjk3NH19LCJSZXNvdXJjZSI6Imh0dHBzOi8vY2RuLWxmcy5oZi5jby9yZXBvcy82MC81ZS82MDVlYjI3MDdlMTdkMjg3ZDlkYjUxNWE1NWQ1YWJkNDFmOTk1MTZmNjc2ODIyY2RmOTk5YWU4N2Q4NDdjMWEyLzM3MTM2YWQwM2EwZGEzZWEyMjBiYzMxODUwYzViNDlmMzlkNTZmYTBkOTllYmQ0ODg4N2QwYzliYjYwYWQ1ZDE%7EcmVzcG9uc2UtY29udGVudC1kaXNwb3NpdGlvbj0qIn1dfQ__&Signature=dtooIcxU8j8tlMnAaPs3lwQypng2Ks-S9m9D1uiPb%7EEwEOPWIB1kzLIkiHrmU3fw7xB51OwggUrcetbj%7Eahqygiu9v%7EmVM2PuXT7zUMnIghz4KxbzJKOAwFTSPk5MDcuvtP6YOR6Xc7TQQVsn%7EBxGKBNhJ71coWbCRiTF9-0GgwBZCrGBef1awnFm4N1Ny0zQkSAq3i6oydAkC1PsRn5sOLQCiIlPoVhbYngtoXjd7-6UkVZ-AYO7bSs3Jk7%7ER8iCBlmMaskT4VnNyY%7Eb7jg9Z3RFqkK2SuBEAZthYWleOY85AxQ4pmMnU8IrR3-2nVdDTW5iS19rasMWE9GrlX9MQ__&Key-Pair-Id=K3RPWS32NSSJCE: HTTPSConnectionPool(host='cdn-lfs.hf.co', port=443): Read timed out.\n",
      "Trying to resume download...\n",
      "WARNING:huggingface_hub.file_download:Error while downloading from https://cdn-lfs.hf.co/repos/60/5e/605eb2707e17d287d9db515a55d5abd41f99516f676822cdf999ae87d847c1a2/37136ad03a0da3ea220bc31850c5b49f39d56fa0d99ebd48887d0c9bb60ad5d1?response-content-disposition=inline%3B+filename*%3DUTF-8%27%27model.safetensors%3B+filename%3D%22model.safetensors%22%3B&Expires=1740902974&Policy=eyJTdGF0ZW1lbnQiOlt7IkNvbmRpdGlvbiI6eyJEYXRlTGVzc1RoYW4iOnsiQVdTOkVwb2NoVGltZSI6MTc0MDkwMjk3NH19LCJSZXNvdXJjZSI6Imh0dHBzOi8vY2RuLWxmcy5oZi5jby9yZXBvcy82MC81ZS82MDVlYjI3MDdlMTdkMjg3ZDlkYjUxNWE1NWQ1YWJkNDFmOTk1MTZmNjc2ODIyY2RmOTk5YWU4N2Q4NDdjMWEyLzM3MTM2YWQwM2EwZGEzZWEyMjBiYzMxODUwYzViNDlmMzlkNTZmYTBkOTllYmQ0ODg4N2QwYzliYjYwYWQ1ZDE%7EcmVzcG9uc2UtY29udGVudC1kaXNwb3NpdGlvbj0qIn1dfQ__&Signature=dtooIcxU8j8tlMnAaPs3lwQypng2Ks-S9m9D1uiPb%7EEwEOPWIB1kzLIkiHrmU3fw7xB51OwggUrcetbj%7Eahqygiu9v%7EmVM2PuXT7zUMnIghz4KxbzJKOAwFTSPk5MDcuvtP6YOR6Xc7TQQVsn%7EBxGKBNhJ71coWbCRiTF9-0GgwBZCrGBef1awnFm4N1Ny0zQkSAq3i6oydAkC1PsRn5sOLQCiIlPoVhbYngtoXjd7-6UkVZ-AYO7bSs3Jk7%7ER8iCBlmMaskT4VnNyY%7Eb7jg9Z3RFqkK2SuBEAZthYWleOY85AxQ4pmMnU8IrR3-2nVdDTW5iS19rasMWE9GrlX9MQ__&Key-Pair-Id=K3RPWS32NSSJCE: HTTPSConnectionPool(host='cdn-lfs.hf.co', port=443): Read timed out.\n",
      "Trying to resume download...\n",
      "Error while downloading from https://cdn-lfs.hf.co/repos/60/5e/605eb2707e17d287d9db515a55d5abd41f99516f676822cdf999ae87d847c1a2/37136ad03a0da3ea220bc31850c5b49f39d56fa0d99ebd48887d0c9bb60ad5d1?response-content-disposition=inline%3B+filename*%3DUTF-8%27%27model.safetensors%3B+filename%3D%22model.safetensors%22%3B&Expires=1740902974&Policy=eyJTdGF0ZW1lbnQiOlt7IkNvbmRpdGlvbiI6eyJEYXRlTGVzc1RoYW4iOnsiQVdTOkVwb2NoVGltZSI6MTc0MDkwMjk3NH19LCJSZXNvdXJjZSI6Imh0dHBzOi8vY2RuLWxmcy5oZi5jby9yZXBvcy82MC81ZS82MDVlYjI3MDdlMTdkMjg3ZDlkYjUxNWE1NWQ1YWJkNDFmOTk1MTZmNjc2ODIyY2RmOTk5YWU4N2Q4NDdjMWEyLzM3MTM2YWQwM2EwZGEzZWEyMjBiYzMxODUwYzViNDlmMzlkNTZmYTBkOTllYmQ0ODg4N2QwYzliYjYwYWQ1ZDE%7EcmVzcG9uc2UtY29udGVudC1kaXNwb3NpdGlvbj0qIn1dfQ__&Signature=dtooIcxU8j8tlMnAaPs3lwQypng2Ks-S9m9D1uiPb%7EEwEOPWIB1kzLIkiHrmU3fw7xB51OwggUrcetbj%7Eahqygiu9v%7EmVM2PuXT7zUMnIghz4KxbzJKOAwFTSPk5MDcuvtP6YOR6Xc7TQQVsn%7EBxGKBNhJ71coWbCRiTF9-0GgwBZCrGBef1awnFm4N1Ny0zQkSAq3i6oydAkC1PsRn5sOLQCiIlPoVhbYngtoXjd7-6UkVZ-AYO7bSs3Jk7%7ER8iCBlmMaskT4VnNyY%7Eb7jg9Z3RFqkK2SuBEAZthYWleOY85AxQ4pmMnU8IrR3-2nVdDTW5iS19rasMWE9GrlX9MQ__&Key-Pair-Id=K3RPWS32NSSJCE: HTTPSConnectionPool(host='cdn-lfs.hf.co', port=443): Read timed out.\n",
      "Trying to resume download...\n",
      "WARNING:huggingface_hub.file_download:Error while downloading from https://cdn-lfs.hf.co/repos/60/5e/605eb2707e17d287d9db515a55d5abd41f99516f676822cdf999ae87d847c1a2/37136ad03a0da3ea220bc31850c5b49f39d56fa0d99ebd48887d0c9bb60ad5d1?response-content-disposition=inline%3B+filename*%3DUTF-8%27%27model.safetensors%3B+filename%3D%22model.safetensors%22%3B&Expires=1740902974&Policy=eyJTdGF0ZW1lbnQiOlt7IkNvbmRpdGlvbiI6eyJEYXRlTGVzc1RoYW4iOnsiQVdTOkVwb2NoVGltZSI6MTc0MDkwMjk3NH19LCJSZXNvdXJjZSI6Imh0dHBzOi8vY2RuLWxmcy5oZi5jby9yZXBvcy82MC81ZS82MDVlYjI3MDdlMTdkMjg3ZDlkYjUxNWE1NWQ1YWJkNDFmOTk1MTZmNjc2ODIyY2RmOTk5YWU4N2Q4NDdjMWEyLzM3MTM2YWQwM2EwZGEzZWEyMjBiYzMxODUwYzViNDlmMzlkNTZmYTBkOTllYmQ0ODg4N2QwYzliYjYwYWQ1ZDE%7EcmVzcG9uc2UtY29udGVudC1kaXNwb3NpdGlvbj0qIn1dfQ__&Signature=dtooIcxU8j8tlMnAaPs3lwQypng2Ks-S9m9D1uiPb%7EEwEOPWIB1kzLIkiHrmU3fw7xB51OwggUrcetbj%7Eahqygiu9v%7EmVM2PuXT7zUMnIghz4KxbzJKOAwFTSPk5MDcuvtP6YOR6Xc7TQQVsn%7EBxGKBNhJ71coWbCRiTF9-0GgwBZCrGBef1awnFm4N1Ny0zQkSAq3i6oydAkC1PsRn5sOLQCiIlPoVhbYngtoXjd7-6UkVZ-AYO7bSs3Jk7%7ER8iCBlmMaskT4VnNyY%7Eb7jg9Z3RFqkK2SuBEAZthYWleOY85AxQ4pmMnU8IrR3-2nVdDTW5iS19rasMWE9GrlX9MQ__&Key-Pair-Id=K3RPWS32NSSJCE: HTTPSConnectionPool(host='cdn-lfs.hf.co', port=443): Read timed out.\n",
      "Trying to resume download...\n"
     ]
    }
   ],
   "source": [
    "populate_chroma_db(chroma_manager)"
   ]
  },
  {
   "cell_type": "code",
   "execution_count": 17,
   "metadata": {},
   "outputs": [
    {
     "name": "stdout",
     "output_type": "stream",
     "text": [
      "[[\"The cost of your treatment is based on how complex your case is and how many aligners you need. We have several options to make Invisalign treatment more affordable for you, from using insurance and tax-free dollars to a monthly payment plan.  \\n\\nTo give you some idea about fees, we have detailed cost breakdowns from some of the cases we've treated. Would you like to see an example?     \\n\"]]\n"
     ]
    }
   ],
   "source": [
    "query = \"How much does it cost?\"\n",
    "n_results = 1\n",
    "\n",
    "# Retrieve the answer\n",
    "retrieved_qa = chroma_manager.get_question_answer(query, n_results)\n",
    "answers, questions  = retrieved_qa\n",
    "print(answers)"
   ]
  },
  {
   "cell_type": "code",
   "execution_count": 7,
   "metadata": {},
   "outputs": [
    {
     "data": {
      "text/plain": [
       "[[\"With over 5,000 smiles transformed, our Invisalign® Certified Providers are here to help you achieve the smile you've always wanted. Whether it's simple straightening or addressing complex issues like crowded teeth, crossbite, underbite, open bite, or overbite, Invisalign offers a solution.  \\n\\nGood to Know: if you or your family have an HSA or FSA account, we'd highly recommend you check with your administrator regarding coverage. Invisalign is usually considered an eligible expense under most HSA or FSA plans. This allows you to use tax-free dollars to cover partial or full out-of-pocket amount. We will be happy to provide any documentation needed for reimbursement. \\n\",\n",
       "  \"Here's what to expect with Invisalign treatment: \\n\\n  - Step 1 - Free Consultation: We'll evaluate if Invisalign is right for you to achieve that perfect smile. \\n\\n  - Step 2 - Treatment Planning: We use advanced digital technology to create a custom plan, showing your smile's transformation step by step. \\n\\n  - Step 3 - Begin Your Journey: With our support at every stage, enjoy a smooth journey to a more confident smile \\n\"]]"
      ]
     },
     "execution_count": 7,
     "metadata": {},
     "output_type": "execute_result"
    }
   ],
   "source": [
    "retrieved_qa"
   ]
  },
  {
   "cell_type": "code",
   "execution_count": 1,
   "metadata": {},
   "outputs": [
    {
     "name": "stderr",
     "output_type": "stream",
     "text": [
      "c:\\Users\\moham\\anaconda3\\envs\\loop\\lib\\site-packages\\tqdm\\auto.py:21: TqdmWarning: IProgress not found. Please update jupyter and ipywidgets. See https://ipywidgets.readthedocs.io/en/stable/user_install.html\n",
      "  from .autonotebook import tqdm as notebook_tqdm\n"
     ]
    }
   ],
   "source": [
    "import chromadb\n",
    "from src.utils.config import load_config\n",
    "from src.database.chroma_manager import ChromaManager\n",
    "import os\n",
    "\n",
    "config,prompt = load_config()\n",
    "chroma_manager = ChromaManager(os.path.abspath(config['chroma_path']))\n",
    "\n"
   ]
  },
  {
   "cell_type": "code",
   "execution_count": null,
   "metadata": {},
   "outputs": [
    {
     "name": "stdout",
     "output_type": "stream",
     "text": [
      "Processing file: Chatbot - Floride Treatment.pdf\n",
      "Processing data/pdf\\Chatbot - Floride Treatment.pdf...\n",
      "[                                        ] (0/3============[=============                           ] (1/============[==========================              ] (2/3=============[========================================] (3/3]\n",
      "Processing file: Chatbot - Laser Treatment.pdf\n",
      "Processing data/pdf\\Chatbot - Laser Treatment.pdf...\n",
      "[                                        ] (0/4=========[==========                              ] (1/4)"
     ]
    }
   ],
   "source": [
    "from src.utils.docx_to_txt import read_folder_to_text_df\n",
    "read_folder_to_text_df('data/pdf')"
   ]
  },
  {
   "cell_type": "code",
   "execution_count": null,
   "metadata": {},
   "outputs": [],
   "source": []
  }
 ],
 "metadata": {
  "kernelspec": {
   "display_name": "loop",
   "language": "python",
   "name": "python3"
  },
  "language_info": {
   "codemirror_mode": {
    "name": "ipython",
    "version": 3
   },
   "file_extension": ".py",
   "mimetype": "text/x-python",
   "name": "python",
   "nbconvert_exporter": "python",
   "pygments_lexer": "ipython3",
   "version": "3.10.16"
  }
 },
 "nbformat": 4,
 "nbformat_minor": 2
}
